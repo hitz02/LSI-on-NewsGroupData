{
 "cells": [
  {
   "cell_type": "markdown",
   "metadata": {},
   "source": [
    "# Importing Utilities"
   ]
  },
  {
   "cell_type": "code",
   "execution_count": 1,
   "metadata": {
    "ExecuteTime": {
     "end_time": "2019-07-01T14:57:35.236621Z",
     "start_time": "2019-07-01T14:57:32.848930Z"
    }
   },
   "outputs": [],
   "source": [
    "import pandas as pd\n",
    "import numpy as np\n",
    "import os\n",
    "import re\n",
    "import nltk\n",
    "from sklearn.datasets import fetch_20newsgroups\n",
    "import gensim\n",
    "from gensim.utils import simple_preprocess\n",
    "from gensim.parsing.preprocessing import STOPWORDS\n",
    "from nltk.stem import WordNetLemmatizer, SnowballStemmer\n",
    "from nltk.stem.porter import *\n",
    "import numpy as np\n",
    "np.random.seed(400)"
   ]
  },
  {
   "cell_type": "markdown",
   "metadata": {},
   "source": [
    "## Reading data"
   ]
  },
  {
   "cell_type": "code",
   "execution_count": 3,
   "metadata": {
    "ExecuteTime": {
     "end_time": "2019-07-01T14:59:16.935446Z",
     "start_time": "2019-07-01T14:58:02.923111Z"
    }
   },
   "outputs": [
    {
     "name": "stderr",
     "output_type": "stream",
     "text": [
      "Downloading 20news dataset. This may take a few minutes.\n",
      "Downloading dataset from https://ndownloader.figshare.com/files/5975967 (14 MB)\n"
     ]
    }
   ],
   "source": [
    "newsgroups_train = fetch_20newsgroups(subset='train', shuffle = True)\n",
    "newsgroups_test = fetch_20newsgroups(subset='test', shuffle = True)"
   ]
  },
  {
   "cell_type": "markdown",
   "metadata": {},
   "source": [
    "## Preprocessing data"
   ]
  },
  {
   "cell_type": "code",
   "execution_count": 6,
   "metadata": {
    "ExecuteTime": {
     "end_time": "2019-07-01T15:02:32.525245Z",
     "start_time": "2019-07-01T15:02:32.521590Z"
    }
   },
   "outputs": [],
   "source": [
    "stemmer = SnowballStemmer(\"english\")"
   ]
  },
  {
   "cell_type": "code",
   "execution_count": 7,
   "metadata": {
    "ExecuteTime": {
     "end_time": "2019-07-01T15:02:33.504844Z",
     "start_time": "2019-07-01T15:02:33.499888Z"
    }
   },
   "outputs": [],
   "source": [
    "def lemmatize_stemming(text):\n",
    "    return stemmer.stem(WordNetLemmatizer().lemmatize(text, pos='v'))\n",
    "\n",
    "# Tokenize and lemmatize\n",
    "def preprocess(text):\n",
    "    result=[]\n",
    "    for token in gensim.utils.simple_preprocess(text) :\n",
    "        if token not in gensim.parsing.preprocessing.STOPWORDS and len(token) > 3:\n",
    "            result.append(lemmatize_stemming(token))\n",
    "            \n",
    "    return result"
   ]
  },
  {
   "cell_type": "code",
   "execution_count": 8,
   "metadata": {
    "ExecuteTime": {
     "end_time": "2019-07-01T15:03:37.122331Z",
     "start_time": "2019-07-01T15:03:05.074957Z"
    }
   },
   "outputs": [],
   "source": [
    "processed_docs = []\n",
    "\n",
    "for doc in newsgroups_train.data:\n",
    "    processed_docs.append(preprocess(doc))"
   ]
  },
  {
   "cell_type": "code",
   "execution_count": 9,
   "metadata": {
    "ExecuteTime": {
     "end_time": "2019-07-01T15:09:27.402398Z",
     "start_time": "2019-07-01T15:09:26.091512Z"
    }
   },
   "outputs": [],
   "source": [
    "dictionary = gensim.corpora.Dictionary(processed_docs)"
   ]
  },
  {
   "cell_type": "markdown",
   "metadata": {},
   "source": [
    "## Computing coherence of each model to decide on the parameters"
   ]
  },
  {
   "cell_type": "code",
   "execution_count": 10,
   "metadata": {
    "ExecuteTime": {
     "end_time": "2019-07-01T15:10:34.486435Z",
     "start_time": "2019-07-01T15:10:34.482819Z"
    }
   },
   "outputs": [],
   "source": [
    "from gensim.models import CoherenceModel"
   ]
  },
  {
   "cell_type": "code",
   "execution_count": 17,
   "metadata": {
    "ExecuteTime": {
     "end_time": "2019-07-01T15:17:09.896714Z",
     "start_time": "2019-07-01T15:17:09.890192Z"
    }
   },
   "outputs": [],
   "source": [
    "def compute_coherence_values(dictionary, processed_docs, limit, start, step):\n",
    "    coherence_values = []\n",
    "    model_list = []\n",
    "\n",
    "    for num_topics in range(start, limit, step):\n",
    "        for min_df_step in range(10,110,10):\n",
    "            dictionary.filter_extremes(no_below=min_df_step, no_above=0.1, keep_n= 100000)\n",
    "            bow_corpus = [dictionary.doc2bow(doc) for doc in processed_docs]\n",
    "            lsi_model = gensim.models.lsimodel.LsiModel(corpus=bow_corpus, id2word=dictionary, num_topics=num_topics)\n",
    "            model_list.append(lsi_model)\n",
    "            coherence_model_lsi = CoherenceModel(model=lsi_model, texts=processed_docs, dictionary=dictionary, coherence='c_v')\n",
    "            coherence_values.append(coherence_model_lsi.get_coherence())\n",
    "\n",
    "    return model_list, coherence_values"
   ]
  },
  {
   "cell_type": "code",
   "execution_count": 18,
   "metadata": {
    "ExecuteTime": {
     "end_time": "2019-07-01T15:40:08.832950Z",
     "start_time": "2019-07-01T15:17:10.765983Z"
    }
   },
   "outputs": [],
   "source": [
    "model_list, coherence_values = compute_coherence_values(dictionary=dictionary, processed_docs=processed_docs, start=50, limit=250, step=50)\n"
   ]
  },
  {
   "cell_type": "code",
   "execution_count": 22,
   "metadata": {
    "ExecuteTime": {
     "end_time": "2019-07-01T15:53:26.091071Z",
     "start_time": "2019-07-01T15:53:26.084272Z"
    }
   },
   "outputs": [
    {
     "name": "stdout",
     "output_type": "stream",
     "text": [
      "LsiModel(num_terms=8672, num_topics=50, decay=1.0, chunksize=20000) 0.373054544291632\n",
      "LsiModel(num_terms=5375, num_topics=50, decay=1.0, chunksize=20000) 0.372026711301835\n",
      "LsiModel(num_terms=4033, num_topics=50, decay=1.0, chunksize=20000) 0.34106090356141594\n",
      "LsiModel(num_terms=3309, num_topics=50, decay=1.0, chunksize=20000) 0.35715776332502963\n",
      "LsiModel(num_terms=2835, num_topics=50, decay=1.0, chunksize=20000) 0.3400759802706687\n",
      "LsiModel(num_terms=2476, num_topics=50, decay=1.0, chunksize=20000) 0.3362204387813874\n",
      "LsiModel(num_terms=2195, num_topics=50, decay=1.0, chunksize=20000) 0.3387405561908693\n",
      "LsiModel(num_terms=1963, num_topics=50, decay=1.0, chunksize=20000) 0.3328016095783436\n",
      "LsiModel(num_terms=1784, num_topics=50, decay=1.0, chunksize=20000) 0.35887481955102984\n",
      "LsiModel(num_terms=1630, num_topics=50, decay=1.0, chunksize=20000) 0.33116409287404286\n",
      "LsiModel(num_terms=1630, num_topics=100, decay=1.0, chunksize=20000) 0.2820444461486742\n",
      "LsiModel(num_terms=1630, num_topics=100, decay=1.0, chunksize=20000) 0.2882389747463481\n",
      "LsiModel(num_terms=1630, num_topics=100, decay=1.0, chunksize=20000) 0.2832178516322977\n",
      "LsiModel(num_terms=1630, num_topics=100, decay=1.0, chunksize=20000) 0.27852187608032514\n",
      "LsiModel(num_terms=1630, num_topics=100, decay=1.0, chunksize=20000) 0.28555657601272183\n",
      "LsiModel(num_terms=1630, num_topics=100, decay=1.0, chunksize=20000) 0.273955177254032\n",
      "LsiModel(num_terms=1630, num_topics=100, decay=1.0, chunksize=20000) 0.27380344897754044\n",
      "LsiModel(num_terms=1630, num_topics=100, decay=1.0, chunksize=20000) 0.2817325783732233\n",
      "LsiModel(num_terms=1630, num_topics=100, decay=1.0, chunksize=20000) 0.27738932275575157\n",
      "LsiModel(num_terms=1630, num_topics=100, decay=1.0, chunksize=20000) 0.2938766737069334\n",
      "LsiModel(num_terms=1630, num_topics=150, decay=1.0, chunksize=20000) 0.25301648850184216\n",
      "LsiModel(num_terms=1630, num_topics=150, decay=1.0, chunksize=20000) 0.25274643585758516\n",
      "LsiModel(num_terms=1630, num_topics=150, decay=1.0, chunksize=20000) 0.2555760062497813\n",
      "LsiModel(num_terms=1630, num_topics=150, decay=1.0, chunksize=20000) 0.2596055597101301\n",
      "LsiModel(num_terms=1630, num_topics=150, decay=1.0, chunksize=20000) 0.2514973184146179\n",
      "LsiModel(num_terms=1630, num_topics=150, decay=1.0, chunksize=20000) 0.25525802316624574\n",
      "LsiModel(num_terms=1630, num_topics=150, decay=1.0, chunksize=20000) 0.2567041347693321\n",
      "LsiModel(num_terms=1630, num_topics=150, decay=1.0, chunksize=20000) 0.25516592199114313\n",
      "LsiModel(num_terms=1630, num_topics=150, decay=1.0, chunksize=20000) 0.25283993844695696\n",
      "LsiModel(num_terms=1630, num_topics=150, decay=1.0, chunksize=20000) 0.26144671571538736\n",
      "LsiModel(num_terms=1630, num_topics=200, decay=1.0, chunksize=20000) 0.23392779272242228\n",
      "LsiModel(num_terms=1630, num_topics=200, decay=1.0, chunksize=20000) 0.23934019229068798\n",
      "LsiModel(num_terms=1630, num_topics=200, decay=1.0, chunksize=20000) 0.23951072703661402\n",
      "LsiModel(num_terms=1630, num_topics=200, decay=1.0, chunksize=20000) 0.24380545346161456\n",
      "LsiModel(num_terms=1630, num_topics=200, decay=1.0, chunksize=20000) 0.24257444592378863\n",
      "LsiModel(num_terms=1630, num_topics=200, decay=1.0, chunksize=20000) 0.24074804564503438\n",
      "LsiModel(num_terms=1630, num_topics=200, decay=1.0, chunksize=20000) 0.24318382025529395\n",
      "LsiModel(num_terms=1630, num_topics=200, decay=1.0, chunksize=20000) 0.24034136738441547\n",
      "LsiModel(num_terms=1630, num_topics=200, decay=1.0, chunksize=20000) 0.2456832986870586\n",
      "LsiModel(num_terms=1630, num_topics=200, decay=1.0, chunksize=20000) 0.24617056242302632\n"
     ]
    }
   ],
   "source": [
    "for m,n in zip(model_list,coherence_values):\n",
    "    print(m,n)"
   ]
  },
  {
   "cell_type": "markdown",
   "metadata": {},
   "source": [
    "## From above results it seems best parameters are -  Num of topics = 50, min_df = 0.1 or 10%"
   ]
  },
  {
   "cell_type": "code",
   "execution_count": 25,
   "metadata": {
    "ExecuteTime": {
     "end_time": "2019-07-01T15:57:23.829655Z",
     "start_time": "2019-07-01T15:57:22.655986Z"
    }
   },
   "outputs": [],
   "source": [
    "# Build LSI model\n",
    "dictionary.filter_extremes(no_below=10, no_above=0.1, keep_n= 100000) #min_df = 10\n",
    "bow_corpus = [dictionary.doc2bow(doc) for doc in processed_docs]\n",
    "lsi_model50 = gensim.models.lsimodel.LsiModel(corpus=bow_corpus,\n",
    "                                           id2word=dictionary,\n",
    "                                           num_topics=50)"
   ]
  },
  {
   "cell_type": "code",
   "execution_count": 27,
   "metadata": {
    "ExecuteTime": {
     "end_time": "2019-07-01T15:57:52.123319Z",
     "start_time": "2019-07-01T15:57:52.111556Z"
    }
   },
   "outputs": [
    {
     "name": "stdout",
     "output_type": "stream",
     "text": [
      "[(0,\n",
      "  '0.485*\"file\" + 0.223*\"program\" + 0.194*\"imag\" + 0.148*\"avail\" + '\n",
      "  '0.144*\"entri\" + 0.125*\"window\" + 0.114*\"version\" + 0.112*\"anonym\" + '\n",
      "  '0.111*\"output\" + 0.106*\"data\"'),\n",
      " (1,\n",
      "  '-0.582*\"file\" + -0.311*\"entri\" + -0.250*\"output\" + 0.150*\"wire\" + '\n",
      "  '0.101*\"drive\" + 0.093*\"anonym\" + 0.090*\"data\" + -0.089*\"program\" + '\n",
      "  '-0.086*\"section\" + 0.086*\"avail\"'),\n",
      " (2,\n",
      "  '-0.398*\"imag\" + 0.188*\"wire\" + -0.168*\"avail\" + -0.159*\"window\" + '\n",
      "  '-0.149*\"version\" + 0.139*\"entri\" + -0.139*\"format\" + -0.139*\"graphic\" + '\n",
      "  '-0.137*\"color\" + -0.135*\"widget\"'),\n",
      " (3,\n",
      "  '-0.543*\"wire\" + 0.326*\"anonym\" + -0.211*\"entri\" + 0.201*\"privaci\" + '\n",
      "  '0.192*\"internet\" + -0.161*\"circuit\" + -0.128*\"grind\" + 0.126*\"file\" + '\n",
      "  '-0.121*\"connect\" + 0.106*\"user\"'),\n",
      " (4,\n",
      "  '0.492*\"wire\" + 0.281*\"anonym\" + 0.171*\"privaci\" + 0.164*\"internet\" + '\n",
      "  '-0.153*\"entri\" + -0.152*\"drive\" + 0.148*\"file\" + 0.145*\"circuit\" + '\n",
      "  '-0.138*\"team\" + -0.136*\"armenian\"'),\n",
      " (5,\n",
      "  '-0.434*\"entri\" + 0.369*\"file\" + 0.274*\"drive\" + 0.219*\"control\" + '\n",
      "  '-0.204*\"program\" + -0.197*\"anonym\" + 0.150*\"firearm\" + -0.140*\"output\" + '\n",
      "  '0.136*\"disk\" + 0.133*\"imag\"'),\n",
      " (6,\n",
      "  '0.563*\"drive\" + 0.270*\"disk\" + -0.254*\"imag\" + 0.192*\"control\" + '\n",
      "  '0.191*\"hard\" + 0.180*\"entri\" + 0.178*\"scsi\" + 0.148*\"anonym\" + 0.148*\"card\" '\n",
      "  '+ 0.127*\"featur\"'),\n",
      " (7,\n",
      "  '-0.324*\"hockey\" + -0.312*\"team\" + -0.282*\"game\" + -0.243*\"leagu\" + '\n",
      "  '-0.200*\"season\" + 0.187*\"armenian\" + -0.145*\"play\" + -0.140*\"player\" + '\n",
      "  '0.131*\"widget\" + -0.131*\"drive\"'),\n",
      " (8,\n",
      "  '-0.472*\"imag\" + 0.344*\"widget\" + 0.330*\"window\" + 0.172*\"applic\" + '\n",
      "  '-0.171*\"space\" + 0.150*\"motif\" + 0.140*\"server\" + 0.139*\"resourc\" + '\n",
      "  '-0.132*\"entri\" + -0.124*\"format\"'),\n",
      " (9,\n",
      "  '-0.382*\"space\" + -0.300*\"launch\" + 0.221*\"armenian\" + 0.215*\"imag\" + '\n",
      "  '0.202*\"anonym\" + -0.146*\"presid\" + 0.128*\"jesus\" + -0.126*\"program\" + '\n",
      "  '-0.118*\"technolog\" + -0.114*\"nasa\"'),\n",
      " (10,\n",
      "  '0.418*\"space\" + -0.332*\"presid\" + 0.282*\"launch\" + 0.211*\"armenian\" + '\n",
      "  '-0.171*\"administr\" + -0.163*\"encrypt\" + -0.151*\"govern\" + 0.139*\"nasa\" + '\n",
      "  '-0.128*\"program\" + 0.122*\"orbit\"'),\n",
      " (11,\n",
      "  '-0.425*\"armenian\" + 0.301*\"jesus\" + 0.265*\"christian\" + 0.216*\"atheist\" + '\n",
      "  '0.174*\"exist\" + -0.169*\"turkish\" + 0.136*\"religion\" + 0.128*\"atheism\" + '\n",
      "  '-0.127*\"russian\" + 0.123*\"argument\"'),\n",
      " (12,\n",
      "  '0.470*\"output\" + -0.319*\"entri\" + 0.183*\"return\" + -0.140*\"turkish\" + '\n",
      "  '-0.137*\"sourc\" + -0.134*\"avail\" + -0.127*\"jew\" + 0.125*\"encrypt\" + '\n",
      "  '0.125*\"open\" + -0.123*\"send\"'),\n",
      " (13,\n",
      "  '-0.336*\"presid\" + 0.333*\"encrypt\" + -0.242*\"anonym\" + 0.235*\"chip\" + '\n",
      "  '0.159*\"technolog\" + 0.159*\"devic\" + 0.156*\"secur\" + -0.152*\"packag\" + '\n",
      "  '0.141*\"clipper\" + 0.129*\"turkish\"'),\n",
      " (14,\n",
      "  '0.394*\"output\" + 0.277*\"turkish\" + 0.261*\"jew\" + -0.229*\"entri\" + '\n",
      "  '-0.196*\"window\" + 0.150*\"graphic\" + -0.143*\"color\" + 0.129*\"avail\" + '\n",
      "  '-0.127*\"scsi\" + 0.120*\"nazi\"'),\n",
      " (15,\n",
      "  '0.313*\"widget\" + 0.236*\"convert\" + -0.206*\"window\" + 0.199*\"valu\" + '\n",
      "  '0.197*\"applic\" + -0.185*\"scsi\" + 0.183*\"turkish\" + 0.178*\"resourc\" + '\n",
      "  '0.172*\"entri\" + -0.167*\"output\"'),\n",
      " (16,\n",
      "  '0.324*\"turkish\" + 0.293*\"jew\" + 0.253*\"window\" + 0.175*\"color\" + '\n",
      "  '0.175*\"scsi\" + -0.174*\"data\" + -0.173*\"graphic\" + 0.142*\"nazi\" + '\n",
      "  '-0.139*\"encrypt\" + -0.137*\"jesus\"'),\n",
      " (17,\n",
      "  '0.281*\"health\" + 0.213*\"output\" + -0.196*\"space\" + 0.192*\"medic\" + '\n",
      "  '0.183*\"center\" + -0.177*\"launch\" + 0.162*\"report\" + 0.161*\"research\" + '\n",
      "  '-0.160*\"jesus\" + 0.149*\"diseas\"'),\n",
      " (18,\n",
      "  '0.312*\"south\" + 0.277*\"secret\" + 0.259*\"island\" + 0.242*\"nuclear\" + '\n",
      "  '0.208*\"militari\" + 0.201*\"ship\" + 0.175*\"georgia\" + -0.170*\"window\" + '\n",
      "  '-0.169*\"health\" + 0.142*\"attack\"'),\n",
      " (19,\n",
      "  '0.485*\"jesus\" + -0.364*\"atheist\" + -0.268*\"exist\" + 0.221*\"matthew\" + '\n",
      "  '-0.220*\"atheism\" + 0.189*\"jew\" + -0.158*\"religion\" + -0.152*\"armenian\" + '\n",
      "  '-0.143*\"religi\" + -0.134*\"belief\"')]\n"
     ]
    }
   ],
   "source": [
    "from pprint import pprint #pretty print\n",
    "# Print the Keyword in the topics\n",
    "pprint(lsi_model50.print_topics())\n",
    "doc_lsi50 = lsi_model50[bow_corpus]"
   ]
  },
  {
   "cell_type": "markdown",
   "metadata": {},
   "source": [
    "## Building multiclass classifier"
   ]
  },
  {
   "cell_type": "code",
   "execution_count": 42,
   "metadata": {
    "ExecuteTime": {
     "end_time": "2019-07-01T16:30:38.716118Z",
     "start_time": "2019-07-01T16:30:38.337028Z"
    }
   },
   "outputs": [],
   "source": [
    "#Reading data\n",
    "newsgroup_data = fetch_20newsgroups(shuffle=True)"
   ]
  },
  {
   "cell_type": "code",
   "execution_count": 43,
   "metadata": {
    "ExecuteTime": {
     "end_time": "2019-07-01T16:31:02.912663Z",
     "start_time": "2019-07-01T16:30:52.309173Z"
    }
   },
   "outputs": [],
   "source": [
    "#Vectorizing the data using TF-IDF vectorizer\n",
    "from sklearn.feature_extraction.text import TfidfVectorizer\n",
    "\n",
    "tfidf = TfidfVectorizer(sublinear_tf=True, min_df=10, norm='l2', encoding='latin-1', ngram_range=(1, 2), stop_words='english')\n",
    "\n",
    "features = tfidf.fit_transform(newsgroup_data.data).toarray()\n",
    "\n",
    "labels = newsgroup_data.target\n"
   ]
  },
  {
   "cell_type": "code",
   "execution_count": 44,
   "metadata": {
    "ExecuteTime": {
     "end_time": "2019-07-01T16:34:10.107729Z",
     "start_time": "2019-07-01T16:31:04.518274Z"
    }
   },
   "outputs": [
    {
     "name": "stderr",
     "output_type": "stream",
     "text": [
      "/anaconda3/envs/ropulus_v2/lib/python3.6/site-packages/sklearn/linear_model/logistic.py:433: FutureWarning: Default solver will be changed to 'lbfgs' in 0.22. Specify a solver to silence this warning.\n",
      "  FutureWarning)\n",
      "/anaconda3/envs/ropulus_v2/lib/python3.6/site-packages/sklearn/linear_model/logistic.py:460: FutureWarning: Default multi_class will be changed to 'auto' in 0.22. Specify the multi_class option to silence this warning.\n",
      "  \"this warning.\", FutureWarning)\n",
      "/anaconda3/envs/ropulus_v2/lib/python3.6/site-packages/sklearn/linear_model/logistic.py:433: FutureWarning: Default solver will be changed to 'lbfgs' in 0.22. Specify a solver to silence this warning.\n",
      "  FutureWarning)\n",
      "/anaconda3/envs/ropulus_v2/lib/python3.6/site-packages/sklearn/linear_model/logistic.py:460: FutureWarning: Default multi_class will be changed to 'auto' in 0.22. Specify the multi_class option to silence this warning.\n",
      "  \"this warning.\", FutureWarning)\n",
      "/anaconda3/envs/ropulus_v2/lib/python3.6/site-packages/sklearn/linear_model/logistic.py:433: FutureWarning: Default solver will be changed to 'lbfgs' in 0.22. Specify a solver to silence this warning.\n",
      "  FutureWarning)\n",
      "/anaconda3/envs/ropulus_v2/lib/python3.6/site-packages/sklearn/linear_model/logistic.py:460: FutureWarning: Default multi_class will be changed to 'auto' in 0.22. Specify the multi_class option to silence this warning.\n",
      "  \"this warning.\", FutureWarning)\n",
      "/anaconda3/envs/ropulus_v2/lib/python3.6/site-packages/sklearn/linear_model/logistic.py:433: FutureWarning: Default solver will be changed to 'lbfgs' in 0.22. Specify a solver to silence this warning.\n",
      "  FutureWarning)\n",
      "/anaconda3/envs/ropulus_v2/lib/python3.6/site-packages/sklearn/linear_model/logistic.py:460: FutureWarning: Default multi_class will be changed to 'auto' in 0.22. Specify the multi_class option to silence this warning.\n",
      "  \"this warning.\", FutureWarning)\n",
      "/anaconda3/envs/ropulus_v2/lib/python3.6/site-packages/sklearn/linear_model/logistic.py:433: FutureWarning: Default solver will be changed to 'lbfgs' in 0.22. Specify a solver to silence this warning.\n",
      "  FutureWarning)\n",
      "/anaconda3/envs/ropulus_v2/lib/python3.6/site-packages/sklearn/linear_model/logistic.py:460: FutureWarning: Default multi_class will be changed to 'auto' in 0.22. Specify the multi_class option to silence this warning.\n",
      "  \"this warning.\", FutureWarning)\n"
     ]
    }
   ],
   "source": [
    "# Doing Cross Validation on various models and checking its accuracy\n",
    "from sklearn.linear_model import LogisticRegression\n",
    "from sklearn.ensemble import RandomForestClassifier\n",
    "from sklearn.svm import LinearSVC\n",
    "from sklearn.naive_bayes import MultinomialNB\n",
    "from sklearn.model_selection import cross_val_score\n",
    "\n",
    "models = [\n",
    "    RandomForestClassifier(n_estimators=200, max_depth=3, random_state=0),\n",
    "    LinearSVC(),\n",
    "    MultinomialNB(),\n",
    "    LogisticRegression(random_state=0),\n",
    "]\n",
    "\n",
    "CV = 5\n",
    "cv_df = pd.DataFrame(index=range(CV * len(models)))\n",
    "\n",
    "entries = []\n",
    "\n",
    "for model in models:\n",
    "  model_name = model.__class__.__name__\n",
    "  accuracies = cross_val_score(model, features, labels, scoring='accuracy', cv=CV)\n",
    "    \n",
    "  for fold_idx, accuracy in enumerate(accuracies):\n",
    "    entries.append((model_name, fold_idx, accuracy))\n",
    "    \n",
    "cv_df = pd.DataFrame(entries, columns=['model_name', 'fold_idx', 'accuracy'])"
   ]
  },
  {
   "cell_type": "code",
   "execution_count": 45,
   "metadata": {
    "ExecuteTime": {
     "end_time": "2019-07-01T16:34:12.478280Z",
     "start_time": "2019-07-01T16:34:12.465269Z"
    }
   },
   "outputs": [
    {
     "data": {
      "text/plain": [
       "model_name\n",
       "LinearSVC                 0.922497\n",
       "LogisticRegression        0.897302\n",
       "MultinomialNB             0.869367\n",
       "RandomForestClassifier    0.625784\n",
       "Name: accuracy, dtype: float64"
      ]
     },
     "execution_count": 45,
     "metadata": {},
     "output_type": "execute_result"
    }
   ],
   "source": [
    "#Checking which model performs better\n",
    "cv_df.groupby('model_name').accuracy.mean()"
   ]
  },
  {
   "cell_type": "code",
   "execution_count": 50,
   "metadata": {
    "ExecuteTime": {
     "end_time": "2019-07-01T16:51:09.494525Z",
     "start_time": "2019-07-01T16:51:02.069078Z"
    }
   },
   "outputs": [],
   "source": [
    "# Using Linear SVM as it gives best accuracy\n",
    "model = LinearSVC()\n",
    "\n",
    "from sklearn.model_selection import train_test_split\n",
    "\n",
    "X_train, X_test, y_train, y_test = train_test_split(features, labels, test_size=0.25, random_state=0)\n",
    "\n",
    "model.fit(X_train, y_train)\n",
    "\n",
    "y_pred = model.predict(X_test)"
   ]
  },
  {
   "cell_type": "code",
   "execution_count": 54,
   "metadata": {
    "ExecuteTime": {
     "end_time": "2019-07-01T16:53:19.323528Z",
     "start_time": "2019-07-01T16:53:18.130838Z"
    }
   },
   "outputs": [
    {
     "data": {
      "image/png": "[encoded data removed]",
      "text/plain": [
       "<Figure size 720x720 with 2 Axes>"
      ]
     },
     "metadata": {
      "needs_background": "light"
     },
     "output_type": "display_data"
    }
   ],
   "source": [
    "# Checking confusion matrix\n",
    "from sklearn.metrics import confusion_matrix\n",
    "import matplotlib.pyplot as plt\n",
    "import seaborn as sns\n",
    "\n",
    "conf_mat = confusion_matrix(y_test, y_pred)\n",
    "fig, ax = plt.subplots(figsize=(10,10))\n",
    "sns.heatmap(conf_mat, annot=True, fmt='d')\n",
    "plt.ylabel('Actual')\n",
    "plt.xlabel('Predicted')\n",
    "plt.show()"
   ]
  },
  {
   "cell_type": "code",
   "execution_count": 58,
   "metadata": {
    "ExecuteTime": {
     "end_time": "2019-07-01T17:00:42.552402Z",
     "start_time": "2019-07-01T17:00:42.540328Z"
    }
   },
   "outputs": [
    {
     "name": "stdout",
     "output_type": "stream",
     "text": [
      "                          precision    recall  f1-score   support\n",
      "\n",
      "             alt.atheism       0.95      0.95      0.95       112\n",
      "           comp.graphics       0.84      0.84      0.84       147\n",
      " comp.os.ms-windows.misc       0.87      0.94      0.90       140\n",
      "comp.sys.ibm.pc.hardware       0.78      0.82      0.80       148\n",
      "   comp.sys.mac.hardware       0.93      0.85      0.89       149\n",
      "          comp.windows.x       0.90      0.91      0.90       159\n",
      "            misc.forsale       0.84      0.87      0.86       131\n",
      "               rec.autos       0.95      0.88      0.91       158\n",
      "         rec.motorcycles       0.97      0.96      0.97       162\n",
      "      rec.sport.baseball       0.94      0.98      0.96       148\n",
      "        rec.sport.hockey       0.94      0.97      0.95       150\n",
      "               sci.crypt       0.99      0.97      0.98       155\n",
      "         sci.electronics       0.87      0.85      0.86       147\n",
      "                 sci.med       0.91      0.96      0.94       131\n",
      "               sci.space       0.96      0.98      0.97       154\n",
      "  soc.religion.christian       0.96      0.95      0.96       155\n",
      "      talk.politics.guns       0.97      0.95      0.96       144\n",
      "   talk.politics.mideast       0.97      0.97      0.97       144\n",
      "      talk.politics.misc       0.96      0.95      0.96       108\n",
      "      talk.religion.misc       0.95      0.89      0.92        87\n",
      "\n",
      "               micro avg       0.92      0.92      0.92      2829\n",
      "               macro avg       0.92      0.92      0.92      2829\n",
      "            weighted avg       0.92      0.92      0.92      2829\n",
      "\n"
     ]
    }
   ],
   "source": [
    "# Showing entire classification report\n",
    "from sklearn import metrics\n",
    "print(metrics.classification_report(y_test, y_pred, target_names=newsgroup_data.target_names))"
   ]
  },
  {
   "cell_type": "code",
   "execution_count": null,
   "metadata": {},
   "outputs": [],
   "source": []
  }
 ],
 "metadata": {
  "kernelspec": {
   "display_name": "Python 3",
   "language": "python",
   "name": "python3"
  },
  "language_info": {
   "codemirror_mode": {
    "name": "ipython",
    "version": 3
   },
   "file_extension": ".py",
   "mimetype": "text/x-python",
   "name": "python",
   "nbconvert_exporter": "python",
   "pygments_lexer": "ipython3",
   "version": "3.6.7"
  },
  "latex_envs": {
   "LaTeX_envs_menu_present": true,
   "autoclose": false,
   "autocomplete": true,
   "bibliofile": "biblio.bib",
   "cite_by": "apalike",
   "current_citInitial": 1,
   "eqLabelWithNumbers": true,
   "eqNumInitial": 1,
   "hotkeys": {
    "equation": "Ctrl-E",
    "itemize": "Ctrl-I"
   },
   "labels_anchors": false,
   "latex_user_defs": false,
   "report_style_numbering": false,
   "user_envs_cfg": false
  },
  "varInspector": {
   "cols": {
    "lenName": 16,
    "lenType": 16,
    "lenVar": 40
   },
   "kernels_config": {
    "python": {
     "delete_cmd_postfix": "",
     "delete_cmd_prefix": "del ",
     "library": "var_list.py",
     "varRefreshCmd": "print(var_dic_list())"
    },
    "r": {
     "delete_cmd_postfix": ") ",
     "delete_cmd_prefix": "rm(",
     "library": "var_list.r",
     "varRefreshCmd": "cat(var_dic_list()) "
    }
   },
   "types_to_exclude": [
    "module",
    "function",
    "builtin_function_or_method",
    "instance",
    "_Feature"
   ],
   "window_display": false
  }
 },
 "nbformat": 4,
 "nbformat_minor": 2
}
